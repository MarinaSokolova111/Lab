{
  "nbformat": 4,
  "nbformat_minor": 0,
  "metadata": {
    "colab": {
      "name": "Практическая работа №6",
      "provenance": []
    },
    "kernelspec": {
      "name": "python3",
      "display_name": "Python 3"
    }
  },
  "cells": [
    {
      "cell_type": "markdown",
      "metadata": {
        "id": "f6eAspGkbmve"
      },
      "source": [
        "# Задание №1"
      ]
    },
    {
      "cell_type": "code",
      "metadata": {
        "id": "PE4faoOMJSZ_"
      },
      "source": [
        "from abc import ABC, abstractmethod\n",
        "class Hero:\n",
        "    def __init__(self):\n",
        "        self.positive_effects = []\n",
        "        self.negative_effects = []\n",
        "        self.stats = {\n",
        "            \"HP\": 128,\n",
        "            \"MP\": 42,\n",
        "            \"SP\": 100,\n",
        "            \"Strength\": 15,\n",
        "            \"Perception\": 4,\n",
        "            \"Endurance\": 8,\n",
        "            \"Charisma\": 2,\n",
        "            \"Intelligence\": 3,\n",
        "            \"Agility\": 8,\n",
        "            \"Luck\": 1\n",
        "        }\n",
        " \n",
        "    def get_positive_effects(self):\n",
        "        return self.positive_effects.copy()\n",
        " \n",
        "    def get_negative_effects(self):\n",
        "        return self.negative_effects.copy()\n",
        " \n",
        "    def get_stats(self):\n",
        "        return self.stats.copy()"
      ],
      "execution_count": null,
      "outputs": []
    },
    {
      "cell_type": "code",
      "metadata": {
        "id": "UGy_vadfJZR_"
      },
      "source": [
        "class AbstractEffect(Hero, ABC):\r\n",
        "    def __init__(self, base):\r\n",
        "        self.base = base\r\n",
        "\r\n",
        "    @abstractmethod\r\n",
        "    def get_positive_effects(self):\r\n",
        "        return self.positive_effects\r\n",
        "\r\n",
        "    @abstractmethod\r\n",
        "    def get_negative_effects(self):\r\n",
        "        return self.negative_effects\r\n",
        "\r\n",
        "    @abstractmethod\r\n",
        "    def get_stats(self):\r\n",
        "        pass\r\n",
        "\r\n",
        "\r\n",
        "class AbstractPositive(AbstractEffect):\r\n",
        "    def get_negative_effects(self):\r\n",
        "        return self.base.get_negative_effects()\r\n",
        "\r\n",
        "\r\n",
        "class AbstractNegative(AbstractEffect):\r\n",
        "    def get_positive_effects(self):\r\n",
        "        return self.base.get_positive_effects()\r\n",
        "\r\n",
        "\r\n",
        "class Berserk(AbstractPositive):\r\n",
        "    def get_stats(self):\r\n",
        "        stats = self.base.get_stats()\r\n",
        "        stats[\"HP\"] += 50\r\n",
        "        stats[\"Strength\"] += 7\r\n",
        "        stats[\"Endurance\"] += 7\r\n",
        "        stats[\"Agility\"] += 7\r\n",
        "        stats[\"Luck\"] += 7\r\n",
        "        stats[\"Perception\"] -= 3\r\n",
        "        stats[\"Charisma\"] -= 3\r\n",
        "        stats[\"Intelligence\"] -= 3\r\n",
        "        return stats\r\n",
        "\r\n",
        "    def get_positive_effects(self):\r\n",
        "        return self.base.get_positive_effects() + [\"Berserk\"]\r\n",
        "\r\n",
        "\r\n",
        "class Blessing(AbstractPositive):\r\n",
        "    def get_stats(self):\r\n",
        "        stats = self.base.get_stats()\r\n",
        "        stats[\"Strength\"] += 2\r\n",
        "        stats[\"Endurance\"] += 2\r\n",
        "        stats[\"Agility\"] += 2\r\n",
        "        stats[\"Luck\"] += 2\r\n",
        "        stats[\"Perception\"] += 2\r\n",
        "        stats[\"Charisma\"] += 2\r\n",
        "        stats[\"Intelligence\"] += 2\r\n",
        "        return stats\r\n",
        "\r\n",
        "    def get_positive_effects(self):\r\n",
        "        return self.base.get_positive_effects() + [\"Blessing\"]\r\n",
        "\r\n",
        "\r\n",
        "class Weakness(AbstractNegative):\r\n",
        "    def get_stats(self):\r\n",
        "        stats = self.base.get_stats()\r\n",
        "        stats[\"Strength\"] -= 4\r\n",
        "        stats[\"Endurance\"] -= 4\r\n",
        "        stats[\"Agility\"] -= 4\r\n",
        "        return stats\r\n",
        "\r\n",
        "    def get_negative_effects(self):\r\n",
        "        return self.base.get_negative_effects() + [\"Weakness\"]\r\n",
        "\r\n",
        "\r\n",
        "class Curse(AbstractNegative):\r\n",
        "    def get_stats(self):\r\n",
        "        stats = self.base.get_stats()\r\n",
        "        stats[\"Strength\"] -= 2\r\n",
        "        stats[\"Endurance\"] -= 2\r\n",
        "        stats[\"Agility\"] -= 2\r\n",
        "        stats[\"Luck\"] -= 2\r\n",
        "        stats[\"Perception\"] -= 2\r\n",
        "        stats[\"Charisma\"] -= 2\r\n",
        "        stats[\"Intelligence\"] -= 2\r\n",
        "        return stats\r\n",
        "\r\n",
        "    def get_negative_effects(self):\r\n",
        "        return self.base.get_negative_effects() + [\"Curse\"]\r\n",
        "\r\n",
        "\r\n",
        "class EvilEye(AbstractNegative):\r\n",
        "    def get_stats(self):\r\n",
        "        stats = self.base.get_stats()\r\n",
        "        stats[\"Luck\"] -= 10\r\n",
        "        return stats\r\n",
        "\r\n",
        "    def get_negative_effects(self):\r\n",
        "        return self.base.get_negative_effects() + [\"EvilEye\"]"
      ],
      "execution_count": null,
      "outputs": []
    },
    {
      "cell_type": "code",
      "metadata": {
        "colab": {
          "base_uri": "https://localhost:8080/"
        },
        "id": "Xjoo7L0ULyNq",
        "outputId": "a9332896-4b55-407e-8bbc-20ae9b0160c3"
      },
      "source": [
        "Geralt = Hero()\n",
        "print(Geralt.stats)\n",
        "print(Geralt.get_negative_effects(), '\\n')\n",
        "\n",
        "Ujas = Curse(Geralt)\n",
        "print(Ujas.get_stats())\n",
        "print(Ujas.get_negative_effects(), '\\n')\n",
        "\n",
        "\n",
        "Boost = Berserk(Geralt)\n",
        "print(Boost.get_stats())\n",
        "print(Boost.get_positive_effects(), '\\n')\n",
        " \n",
        "Ujas2 = EvilEye(Geralt)\n",
        "print(Ujas2.get_stats())\n",
        "print(Ujas2.get_negative_effects(), '\\n')\n",
        " \n",
        "Boost2 = Blessing(Geralt)\n",
        "print(Boost2.get_stats())\n",
        "print(Boost2.get_positive_effects(), '\\n')\n",
        " \n",
        "Ujas3 = Weakness(Geralt)\n",
        "print(Ujas3.get_stats())\n",
        "print(Ujas3.get_negative_effects())"
      ],
      "execution_count": null,
      "outputs": [
        {
          "output_type": "stream",
          "text": [
            "{'HP': 128, 'MP': 42, 'SP': 100, 'Strength': 15, 'Perception': 4, 'Endurance': 8, 'Charisma': 2, 'Intelligence': 3, 'Agility': 8, 'Luck': 1}\n",
            "[] \n",
            "\n",
            "{'HP': 128, 'MP': 42, 'SP': 100, 'Strength': 13, 'Perception': 2, 'Endurance': 6, 'Charisma': 0, 'Intelligence': 1, 'Agility': 6, 'Luck': -1}\n",
            "['Curse'] \n",
            "\n",
            "{'HP': 178, 'MP': 42, 'SP': 100, 'Strength': 22, 'Perception': 1, 'Endurance': 15, 'Charisma': -1, 'Intelligence': 0, 'Agility': 15, 'Luck': 8}\n",
            "['Berserk'] \n",
            "\n",
            "{'HP': 128, 'MP': 42, 'SP': 100, 'Strength': 15, 'Perception': 4, 'Endurance': 8, 'Charisma': 2, 'Intelligence': 3, 'Agility': 8, 'Luck': -9}\n",
            "['EvilEye'] \n",
            "\n",
            "{'HP': 128, 'MP': 42, 'SP': 100, 'Strength': 17, 'Perception': 6, 'Endurance': 10, 'Charisma': 4, 'Intelligence': 5, 'Agility': 10, 'Luck': 3}\n",
            "['Blessing'] \n",
            "\n",
            "{'HP': 128, 'MP': 42, 'SP': 100, 'Strength': 11, 'Perception': 4, 'Endurance': 4, 'Charisma': 2, 'Intelligence': 3, 'Agility': 4, 'Luck': 1}\n",
            "['Weakness']\n"
          ],
          "name": "stdout"
        }
      ]
    },
    {
      "cell_type": "markdown",
      "metadata": {
        "id": "RrbPSi38btpI"
      },
      "source": [
        "# Задание №2"
      ]
    },
    {
      "cell_type": "code",
      "metadata": {
        "id": "QEdA5Nc8bwMi"
      },
      "source": [
        "from abc import ABC, abstractmethod\r\n",
        "\r\n",
        "class Hero:\r\n",
        "    def __init__(self, opit, lvl):\r\n",
        "        self.stats = {\r\n",
        "            \"HP\": 10,\r\n",
        "            \"MP\": 20,\r\n",
        "            \"SP\": 30,\r\n",
        "        }\r\n",
        "        self.opit = opit\r\n",
        "        self.lvl = lvl\r\n",
        "\r\n",
        "    def opit_up(self):\r\n",
        "        self.opit += 10 \r\n",
        "        return self.opit\r\n",
        "\r\n",
        "    def lvl_up(self):\r\n",
        "        stats = self.get_stats()\r\n",
        "        self.lvl += 1\r\n",
        "        stats[\"HP\"] += 10\r\n",
        "        stats[\"MP\"] += 10\r\n",
        "        stats[\"SP\"] += 10\r\n",
        "\r\n",
        "        return self.lvl, str('уровень:'), stats\r\n",
        "\r\n",
        "    def get_stats(self):\r\n",
        "        return self.stats.copy()\r\n",
        "\r\n",
        "    def can(self):\r\n",
        "        if Geralt.opit >= 20:\r\n",
        "            print(Geralt.lvl_up())\r\n",
        "            achiev.subscribe(award)\r\n",
        "            achiev.notify(\"Вы заслужили награду! Ваши статы увеличелись!\")\r\n",
        "            print(award.achievements)\r\n",
        "\r\n",
        "        return \"Геральт: -Шевелись, Платва!\"\r\n",
        "\r\n",
        "class ObservableEngine():\r\n",
        "    def __init__(self):\r\n",
        "        self.__subscribers = set()\r\n",
        "\r\n",
        "    def subscribe(self, subscriber):\r\n",
        "        self.__subscribers.add(subscriber)\r\n",
        "\r\n",
        "    def unsubscribe(self, subscriber):\r\n",
        "        self.__subscribers.remove(subscriber)\r\n",
        "\r\n",
        "    def notify(self, message):\r\n",
        "        for subscriber in self.__subscribers:\r\n",
        "            subscriber.update(message)\r\n",
        "\r\n",
        "\r\n",
        "class AbstractObserver(ABC):\r\n",
        "    @abstractmethod\r\n",
        "    def update(self, message):\r\n",
        "        pass\r\n",
        "\r\n",
        "\r\n",
        "class ShortNotificationPrinter(AbstractObserver):\r\n",
        "    def __init__(self):\r\n",
        "        self.achievements = set()\r\n",
        "\r\n",
        "    def update(self, message):\r\n",
        "        self.achievements.add(message[title])\r\n",
        "\r\n",
        "\r\n",
        "class FullNotificationPrinter(AbstractObserver):\r\n",
        "    def __init__(self):\r\n",
        "        self.achievements = list()\r\n",
        "\r\n",
        "    def update(self, message):\r\n",
        "        if message not in self.achievements:\r\n",
        "            self.achievements.append(message)"
      ],
      "execution_count": null,
      "outputs": []
    },
    {
      "cell_type": "code",
      "metadata": {
        "colab": {
          "base_uri": "https://localhost:8080/"
        },
        "id": "wDe_RqfhGIF3",
        "outputId": "dbfebc45-1d47-4b53-99e4-8a9f7f329aa1"
      },
      "source": [
        "achiev = ObservableEngine()\r\n",
        "award = ShortNotificationPrinter()\r\n",
        "Geralt = Hero(0,1)\r\n",
        "\r\n",
        "print(Geralt.get_stats(), \"\\n\")\r\n",
        "print(Geralt.lvl, \"уровень \")\r\n",
        "print(Geralt.can(), \"\\n\")\r\n",
        "\r\n",
        "print(Geralt.opit_up())\r\n",
        "print(Geralt.lvl, \"уровень\")\r\n",
        "print(Geralt.can(), \"\\n\")\r\n",
        "\r\n",
        "print(Geralt.opit_up())\r\n",
        "print(Geralt.can())"
      ],
      "execution_count": null,
      "outputs": [
        {
          "output_type": "stream",
          "text": [
            "{'HP': 10, 'MP': 20, 'SP': 30} \n",
            "\n",
            "1 уровень \n",
            "Геральт: -Шевелись, Платва! \n",
            "\n",
            "10\n",
            "1 уровень\n",
            "Геральт: -Шевелись, Платва! \n",
            "\n",
            "20\n",
            "(2, 'уровень:', {'HP': 20, 'MP': 30, 'SP': 40})\n",
            "{'Вы заслужили награду! Ваши статы увеличелись!'}\n",
            "Геральт: -Шевелись, Платва!\n"
          ],
          "name": "stdout"
        }
      ]
    },
    {
      "cell_type": "code",
      "metadata": {
        "id": "Eq_2kYyPb0NJ",
        "colab": {
          "base_uri": "https://localhost:8080/"
        },
        "outputId": "0a3b96a5-f9cf-4e85-c563-3fa6c57e1eb6"
      },
      "source": [
        "achiev = ObservableEngine()\r\n",
        "award = FullNotificationPrinter()\r\n",
        "Geralt = Hero(0,1)\r\n",
        "\r\n",
        "print(Geralt.get_stats(), \"\\n\")\r\n",
        "\r\n",
        "print(Geralt.lvl, \"уровень \")\r\n",
        "print(Geralt.can(), \"\\n\")\r\n",
        "print(Geralt.opit_up())\r\n",
        "\r\n",
        "print(Geralt.lvl, \"уровень\")\r\n",
        "print(Geralt.can(), \"\\n\")\r\n",
        "\r\n",
        "print(Geralt.opit_up())\r\n",
        "print(Geralt.can())"
      ],
      "execution_count": null,
      "outputs": [
        {
          "output_type": "stream",
          "text": [
            "{'HP': 10, 'MP': 20, 'SP': 30} \n",
            "\n",
            "1 уровень \n",
            "Геральт: -Шевелись, Платва! \n",
            "\n",
            "10\n",
            "1 уровень\n",
            "Геральт: -Шевелись, Платва! \n",
            "\n",
            "20\n",
            "(2, 'уровень:', {'HP': 20, 'MP': 30, 'SP': 40})\n",
            "['Вы заслужили награду! Ваши статы увеличелись!']\n",
            "Геральт: -Шевелись, Платва!\n"
          ],
          "name": "stdout"
        }
      ]
    }
  ]
}