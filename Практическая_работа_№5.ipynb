{
  "nbformat": 4,
  "nbformat_minor": 0,
  "metadata": {
    "colab": {
      "name": "Практическая работа №5",
      "provenance": []
    },
    "kernelspec": {
      "name": "python3",
      "display_name": "Python 3"
    }
  },
  "cells": [
    {
      "cell_type": "code",
      "metadata": {
        "colab": {
          "base_uri": "https://localhost:8080/"
        },
        "id": "KPyjQS6fBuZK",
        "outputId": "6b61e927-e2ad-42a6-e4e3-31aa4bd1c22a"
      },
      "source": [
        "import math\r\n",
        "class Win_Door:\r\n",
        "    def __init__(self, y, z):\r\n",
        "        self.square = y*z\r\n",
        "\r\n",
        "class Room:\r\n",
        "    def __init__(self, x, y, z):\r\n",
        "        self.length = x\r\n",
        "        self.width = y\r\n",
        "        self.height = z\r\n",
        "        self.wd = []\r\n",
        " \r\n",
        "    def addWD(self, y, z):\r\n",
        "        self.wd.append(Win_Door(y, z))\r\n",
        " \r\n",
        "    def fullSerface(self):\r\n",
        "        return 2 * self.height * (self.length + self.width)\r\n",
        " \r\n",
        "    def workSurface(self):\r\n",
        "        new_square = self.fullSerface()\r\n",
        "        for i in self.wd:\r\n",
        "            new_square -= i.square\r\n",
        "        return new_square\r\n",
        " \r\n",
        "    def wallpapers(self, x, y):\r\n",
        "        return math.ceil(self.workSurface() / (x * y))\r\n",
        "\r\n",
        "print(\"Размеры помещения:\")\r\n",
        "x = float(input(\"Длина \"))\r\n",
        "y = float(input(\"Ширина \"))\r\n",
        "z = float(input(\"Высота \"))\r\n",
        "r1 = Room(x, y, z)\r\n",
        " \r\n",
        "f = input(\"Есть двери? (1 - да, 2 - нет) \")\r\n",
        "while f == '1':\r\n",
        "    w = float(input(\"Ширина - \"))\r\n",
        "    h = float(input(\"Высота - \"))\r\n",
        "    r1.addWD(y, z)\r\n",
        "    f = input(\"Есть окно? (1 - да, 2 - нет) \")\r\n",
        " \r\n",
        "print(\"Размеры рулона:\")\r\n",
        "x = float(input(\"Длина - \"))\r\n",
        "y = float(input(\"Ширина - \"))\r\n",
        " \r\n",
        "print(\"Площадь оклейки\", r1.workSurface())\r\n",
        "print(\"Количество рулонов\", r1.wallpapers(x, y))"
      ],
      "execution_count": null,
      "outputs": [
        {
          "output_type": "stream",
          "text": [
            "Размеры помещения:\n",
            "Длина 3\n",
            "Ширина 5\n",
            "Высота 7\n",
            "Есть двери? (1 - да, 2 - нет) 8\n",
            "Размеры рулона:\n",
            "Длина - 6\n",
            "Ширина - 9\n",
            "Площадь оклейки 112.0\n",
            "Количество рулонов 3\n"
          ],
          "name": "stdout"
        }
      ]
    }
  ]
}